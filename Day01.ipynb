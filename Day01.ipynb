{
 "cells": [
  {
   "cell_type": "code",
   "execution_count": 1,
   "id": "f739a971-d50d-4239-9480-7dbbaff198fd",
   "metadata": {},
   "outputs": [
    {
     "name": "stdout",
     "output_type": "stream",
     "text": [
      "Hello\n"
     ]
    }
   ],
   "source": [
    "print(\"Hello\")"
   ]
  },
  {
   "cell_type": "code",
   "execution_count": 3,
   "id": "450b5495-95bd-43ba-a631-df176b816d04",
   "metadata": {},
   "outputs": [
    {
     "name": "stdout",
     "output_type": "stream",
     "text": [
      "Hello World\n"
     ]
    }
   ],
   "source": [
    "print(\"Hello World\")"
   ]
  },
  {
   "cell_type": "code",
   "execution_count": 4,
   "id": "136b658b-a729-4bfe-9287-d0427300391e",
   "metadata": {},
   "outputs": [
    {
     "name": "stdout",
     "output_type": "stream",
     "text": [
      "0\n",
      "1\n",
      "2\n",
      "3\n",
      "4\n"
     ]
    }
   ],
   "source": [
    "for i in range(5):\n",
    "    print(i)"
   ]
  },
  {
   "cell_type": "code",
   "execution_count": 6,
   "id": "636efe3a-3bf2-487f-9175-fba9b266cd14",
   "metadata": {},
   "outputs": [
    {
     "name": "stdout",
     "output_type": "stream",
     "text": [
      "Array is =  [1 2 3 4 5]\n"
     ]
    }
   ],
   "source": [
    "# numpy : Basically, numpy is a library, library is a collection of package; which is used in mathematical Operation, Scientific Calculation, Multidimentional Array, etc.\n",
    "from numpy import *\n",
    "# import numpy as np -> also write in this way.\n",
    "arr1 = array([1, 2, 3, 4, 5])\n",
    "print(\"Array is = \", arr1)"
   ]
  },
  {
   "cell_type": "code",
   "execution_count": 7,
   "id": "59c0b9f7-cdae-46c5-984b-577bb7f0cb84",
   "metadata": {},
   "outputs": [
    {
     "name": "stdout",
     "output_type": "stream",
     "text": [
      "Array is =  [1 2 3 4 5]\n"
     ]
    }
   ],
   "source": [
    "import numpy as np\n",
    "# from numpy import * -> also write in this way.\n",
    "arr2 = np.array([1, 2, 3, 4, 5])\n",
    "print(\"Array is = \", arr2)"
   ]
  }
 ],
 "metadata": {
  "kernelspec": {
   "display_name": "Python 3 (ipykernel)",
   "language": "python",
   "name": "python3"
  },
  "language_info": {
   "codemirror_mode": {
    "name": "ipython",
    "version": 3
   },
   "file_extension": ".py",
   "mimetype": "text/x-python",
   "name": "python",
   "nbconvert_exporter": "python",
   "pygments_lexer": "ipython3",
   "version": "3.12.4"
  }
 },
 "nbformat": 4,
 "nbformat_minor": 5
}
