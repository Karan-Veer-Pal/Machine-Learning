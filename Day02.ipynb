{
 "cells": [
  {
   "cell_type": "code",
   "execution_count": 5,
   "id": "37bbc390-fa2d-4cbc-a95c-60e23af3c6d8",
   "metadata": {},
   "outputs": [
    {
     "name": "stdout",
     "output_type": "stream",
     "text": [
      "[2 3 4 5 6]\n"
     ]
    }
   ],
   "source": [
    "from numpy import *\n",
    "arr = array([2, 3, 4, 5, 6])\n",
    "print(arr)"
   ]
  },
  {
   "cell_type": "code",
   "execution_count": 8,
   "id": "35d53543-58a3-48a4-b133-29650c4ecf3f",
   "metadata": {},
   "outputs": [
    {
     "name": "stdout",
     "output_type": "stream",
     "text": [
      "[3 4 5 6]\n",
      "<class 'numpy.ndarray'>\n"
     ]
    }
   ],
   "source": [
    "# Create one array using another array : And Copy the data from one array to another :\n",
    "from numpy import *\n",
    "arr1 = array([3, 4, 5, 6])\n",
    "arr2 = arr1\n",
    "print(arr2)\n",
    "print(type(arr2)) # Print type of array 3"
   ]
  },
  {
   "cell_type": "code",
   "execution_count": 1,
   "id": "277cb8a4-cb18-489b-b19c-c1b476bcf372",
   "metadata": {},
   "outputs": [
    {
     "name": "stdout",
     "output_type": "stream",
     "text": [
      "[ 6  7  8  9 10]\n",
      "[5 6 7 8 9]\n",
      "[25 30 35 40 45]\n",
      "[12.5 15.  17.5 20.  22.5]\n"
     ]
    }
   ],
   "source": [
    "# How to add 5 in each item of any array :\n",
    "from numpy import *\n",
    "arr1 = array([1,2,3,4,5])\n",
    "arr1 = arr1 + 5\n",
    "print(arr1)\n",
    "arr2 = arr2 - 1\n",
    "print(arr2)\n",
    "arr3 = arr3 * 5\n",
    "print(arr3)\n",
    "arr4 = arr4 / 2\n",
    "print(arr4)"
   ]
  },
  {
   "cell_type": "code",
   "execution_count": 3,
   "id": "950f4ee1-11d1-4e29-bf52-c38ca3a218e7",
   "metadata": {},
   "outputs": [
    {
     "name": "stdout",
     "output_type": "stream",
     "text": [
      "[ 7  9 11 13 15]\n"
     ]
    }
   ],
   "source": [
    "# How to add two array : Never add the different length of array :\n",
    "from numpy import *\n",
    "arr1 = array([1,2,3,4,5])\n",
    "arr2 = array([6,7,8,9,10])\n",
    "arr3 = arr1 + arr2\n",
    "print(arr3)"
   ]
  },
  {
   "cell_type": "code",
   "execution_count": 12,
   "id": "69094e3b-154c-45d3-9ae5-9725be95e2d2",
   "metadata": {},
   "outputs": [
    {
     "name": "stdout",
     "output_type": "stream",
     "text": [
      "sin =  [ 0.         -0.98803162  0.85090352 -0.30481062  0.89399666]\n",
      "cos =  [ 1.          0.15425145  0.52532199 -0.95241298 -0.44807362]\n",
      "tan =  [ 0.         -6.4053312   1.61977519  0.32004039 -1.99520041]\n"
     ]
    }
   ],
   "source": [
    "# Get the sin value of any array :\n",
    "from numpy import *\n",
    "arr = array([0, 30, 45, 60, 90])\n",
    "print(\"sin = \", sin(arr))\n",
    "print(\"cos = \", cos(arr))\n",
    "print(\"tan = \", tan(arr))\n",
    "# print(sec(arr)) --> Not Defined\n",
    "# print(cosec(arr)) --> Not Defined\n",
    "# print(cot(arr)) --> Not Defined"
   ]
  },
  {
   "cell_type": "code",
   "execution_count": 13,
   "id": "b840c3fc-11db-4799-8748-746fbc6e483e",
   "metadata": {},
   "outputs": [
    {
     "name": "stdout",
     "output_type": "stream",
     "text": [
      "15\n"
     ]
    }
   ],
   "source": [
    "# Sum of any array :\n",
    "from numpy import *\n",
    "arr = array([1,2,3,4,5])\n",
    "print(sum(arr))"
   ]
  },
  {
   "cell_type": "code",
   "execution_count": 5,
   "id": "8ebec8a6-4205-42e9-a636-b7f303e80a4b",
   "metadata": {},
   "outputs": [
    {
     "name": "stdout",
     "output_type": "stream",
     "text": [
      "Minimum value of array :  1\n",
      "Maximum value of array :  5\n",
      "Log value of array :  [0.         0.69314718 1.09861229 1.38629436 1.60943791]\n",
      "Square root value of array :  [1.         1.41421356 1.73205081 2.         2.23606798]\n"
     ]
    }
   ],
   "source": [
    "# How to calculate MIN, Max, Log and Square Root value of a array : \n",
    "from numpy import *\n",
    "arr = array([1,2,3,4,5])\n",
    "print(\"Minimum value of array : \", min(arr))\n",
    "print(\"Maximum value of array : \", max(arr))\n",
    "print(\"Log value of array : \", log(arr)) // Return the value on base e\n",
    "print(\"Square root value of array : \", sqrt(arr))"
   ]
  },
  {
   "cell_type": "code",
   "execution_count": 10,
   "id": "f2818093-dfb9-4456-bfbe-8c1474429977",
   "metadata": {},
   "outputs": [
    {
     "name": "stdout",
     "output_type": "stream",
     "text": [
      "[1 2 3 4 5 6]\n"
     ]
    }
   ],
   "source": [
    "# How to demonstrate the Concatenation of array : \n",
    "from numpy import *\n",
    "arr1 = array([1,2,3])\n",
    "arr2 = array([4,5,6])\n",
    "print(concatenate([arr1,arr2]))"
   ]
  },
  {
   "cell_type": "code",
   "execution_count": 6,
   "id": "24d0aab9-5e06-4de6-afc2-4cc525ebdba6",
   "metadata": {},
   "outputs": [
    {
     "name": "stdout",
     "output_type": "stream",
     "text": [
      "[[1 2 3]\n",
      " [4 5 6]]\n",
      "Array Type = int64\n",
      "Dimension = 2\n",
      "Shape = (2, 3)\n",
      "Size = 6\n"
     ]
    }
   ],
   "source": [
    "# How to create 2D array :\n",
    "from numpy import * \n",
    "# arr = array([ [1,2,3], [4,5,6] ])\n",
    "arr = array([\n",
    "            [1,2,3],\n",
    "            [4,5,6]\n",
    "            ])\n",
    "print(arr)\n",
    "print(\"Array Type =\", arr.dtype) # Used to check array type\n",
    "print(\"Dimension =\", arr.ndim) # Used to check dimension of a array\n",
    "print(\"Shape =\", arr.shape) # Used to check the shape of the array\n",
    "print(\"Size =\", arr.size) # Used to check size of the array : it return the total element of the array"
   ]
  }
 ],
 "metadata": {
  "kernelspec": {
   "display_name": "Python 3 (ipykernel)",
   "language": "python",
   "name": "python3"
  },
  "language_info": {
   "codemirror_mode": {
    "name": "ipython",
    "version": 3
   },
   "file_extension": ".py",
   "mimetype": "text/x-python",
   "name": "python",
   "nbconvert_exporter": "python",
   "pygments_lexer": "ipython3",
   "version": "3.12.4"
  }
 },
 "nbformat": 4,
 "nbformat_minor": 5
}
